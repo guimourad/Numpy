{
 "cells": [
  {
   "cell_type": "markdown",
   "metadata": {},
   "source": [
    "## Exercício\n",
    "\n",
    "Você é um analista de RH e tem os salários de todos os funcionários da sua empresa em um array NumPy. Seu trabalho é identificar quantos funcionários ganham acima da média. Use o seguinte array para sua análise: `salarios = np.array([3000, 2500, 3500, 4000, 2000, 4500, 3000, 3800, 4800])`."
   ]
  },
  {
   "cell_type": "code",
   "execution_count": 12,
   "metadata": {
    "ExecuteTime": {
     "end_time": "2023-07-03T17:58:55.261401600Z",
     "start_time": "2023-07-03T17:58:55.249755Z"
    },
    "collapsed": false,
    "jupyter": {
     "outputs_hidden": false
    }
   },
   "outputs": [
    {
     "name": "stdout",
     "output_type": "stream",
     "text": [
      "3455.5555555555557\n"
     ]
    }
   ],
   "source": [
    "import numpy as np\n",
    "\n",
    "salarios = np.array([3000, 2500, 3500, 4000, 2000, 4500, 3000, 3800, 4800])\n",
    "\n",
    "media = np.mean(salarios)\n",
    "print(media)"
   ]
  },
  {
   "cell_type": "code",
   "execution_count": 13,
   "metadata": {},
   "outputs": [
    {
     "name": "stdout",
     "output_type": "stream",
     "text": [
      "(array([2, 3, 5, 7, 8], dtype=int64),)\n"
     ]
    }
   ],
   "source": [
    "salarios_acima_media = np.where(salarios > media)\n",
    "print(salarios_acima_media)"
   ]
  },
  {
   "cell_type": "code",
   "execution_count": 14,
   "metadata": {},
   "outputs": [
    {
     "name": "stdout",
     "output_type": "stream",
     "text": [
      "[3500 4000 4500 3800 4800]\n"
     ]
    }
   ],
   "source": [
    "print(salarios[salarios_acima_media])\n"
   ]
  },
  {
   "cell_type": "code",
   "execution_count": 20,
   "metadata": {},
   "outputs": [
    {
     "name": "stdout",
     "output_type": "stream",
     "text": [
      "True\n",
      "True\n"
     ]
    }
   ],
   "source": [
    "print(True == 1)\n",
    "print(False == 0)\n",
    "#essas condiçoes sao do python, onde True = 1, que possibilita fazer a contagem dos salarios acima da media"
   ]
  },
  {
   "cell_type": "code",
   "execution_count": 19,
   "metadata": {},
   "outputs": [
    {
     "name": "stdout",
     "output_type": "stream",
     "text": [
      "[False False  True  True False  True False  True  True]\n",
      "5 ganham mais do que a media\n"
     ]
    }
   ],
   "source": [
    "print(salarios > media)\n",
    "#isso printa se é True or False essa condição, e com isso podemos dar um np.sum que soma a quantidate de True,\n",
    "#chegando na quantidade de salarios acima da media\n",
    "funcionarios_acima_media = np.sum(salarios > media) \n",
    "print(f\"{funcionarios_acima_media} ganham mais do que a media\")"
   ]
  },
  {
   "cell_type": "markdown",
   "metadata": {},
   "source": [
    "## Bonus\n",
    "## Outras formar de fazer contagem"
   ]
  },
  {
   "cell_type": "code",
   "execution_count": 21,
   "metadata": {},
   "outputs": [
    {
     "name": "stdout",
     "output_type": "stream",
     "text": [
      "5\n"
     ]
    }
   ],
   "source": [
    "print(np.count_nonzero(salarios > media)) #conta  o que nao for zero, ou seja, tudo que for True"
   ]
  },
  {
   "cell_type": "code",
   "execution_count": 22,
   "metadata": {},
   "outputs": [
    {
     "name": "stdout",
     "output_type": "stream",
     "text": [
      "[False  True]\n"
     ]
    }
   ],
   "source": [
    "print(np.unique(salarios > media)) #me diz quantos valores unicos existem"
   ]
  },
  {
   "cell_type": "code",
   "execution_count": 23,
   "metadata": {},
   "outputs": [
    {
     "name": "stdout",
     "output_type": "stream",
     "text": [
      "(array([False,  True]), array([4, 5], dtype=int64))\n"
     ]
    }
   ],
   "source": [
    "print(np.unique(salarios > media, return_counts=True)) ##me diz quantos valores unicos existem, e quantos existem deles"
   ]
  },
  {
   "cell_type": "code",
   "execution_count": 24,
   "metadata": {},
   "outputs": [
    {
     "name": "stdout",
     "output_type": "stream",
     "text": [
      "[False  True]\n",
      "[4 5]\n"
     ]
    }
   ],
   "source": [
    "#por ser uma tupla, pode-se fazer o unpacking\n",
    "valores_unicos, contagem = np.unique(salarios > media, return_counts=True)\n",
    "print(valores_unicos)\n",
    "print(contagem)\n"
   ]
  },
  {
   "cell_type": "markdown",
   "metadata": {},
   "source": [
    "## Bonus 2\n",
    "criando 20 valores ficticios de salarios com a mesma faixa anterior, tomando cuidado de outras pessoas gerarem o mesmos valores:"
   ]
  },
  {
   "cell_type": "code",
   "execution_count": 26,
   "metadata": {},
   "outputs": [
    {
     "name": "stdout",
     "output_type": "stream",
     "text": [
      "[2249 4167 3832 3228 3212 4404 2240 3952 2564 2263 3474 4731 4060 4131\n",
      " 4008 4200 3437 2358 4351 3261]\n"
     ]
    }
   ],
   "source": [
    "rng = np.random.default_rng(seed=42)\n",
    "\n",
    "salarios_gerados = rng.integers(low=np.min(salarios), high=np.max(salarios), size=20)\n",
    "print(salarios_gerados)"
   ]
  },
  {
   "cell_type": "code",
   "execution_count": 27,
   "metadata": {},
   "outputs": [
    {
     "name": "stdout",
     "output_type": "stream",
     "text": [
      "[2249 4167 3833 3229 3212 4404 2240 3953 2564 2263 3474 4732 4060 4131\n",
      " 4009 4201 3437 2358 4352 3261]\n"
     ]
    }
   ],
   "source": [
    "rng = np.random.default_rng(seed=42)\n",
    "\n",
    "salarios_gerados = rng.integers(low=np.min(salarios), high=np.max(salarios), size=20, endpoint=True)\n",
    "print(salarios_gerados)"
   ]
  },
  {
   "cell_type": "code",
   "execution_count": 28,
   "metadata": {},
   "outputs": [
    {
     "name": "stdout",
     "output_type": "stream",
     "text": [
      "3506.45\n"
     ]
    }
   ],
   "source": [
    "print(np.mean(salarios_gerados))"
   ]
  },
  {
   "cell_type": "code",
   "execution_count": 29,
   "metadata": {},
   "outputs": [
    {
     "name": "stdout",
     "output_type": "stream",
     "text": [
      "2240\n",
      "4732\n",
      "3506.45\n"
     ]
    }
   ],
   "source": [
    "# as funcões estatisticas tambem podem ser chamadas como metodo de array\n",
    "\n",
    "print(salarios_gerados.min())\n",
    "print(salarios_gerados.max())\n",
    "print(salarios_gerados.mean())\n"
   ]
  }
 ],
 "metadata": {
  "kernelspec": {
   "display_name": "Python 3 (ipykernel)",
   "language": "python",
   "name": "python3"
  },
  "language_info": {
   "codemirror_mode": {
    "name": "ipython",
    "version": 3
   },
   "file_extension": ".py",
   "mimetype": "text/x-python",
   "name": "python",
   "nbconvert_exporter": "python",
   "pygments_lexer": "ipython3",
   "version": "3.11.1"
  }
 },
 "nbformat": 4,
 "nbformat_minor": 4
}
