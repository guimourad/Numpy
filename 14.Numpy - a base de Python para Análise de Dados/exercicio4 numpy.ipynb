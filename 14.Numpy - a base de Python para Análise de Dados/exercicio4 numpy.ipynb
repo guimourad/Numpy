{
 "cells": [
  {
   "cell_type": "markdown",
   "metadata": {},
   "source": [
    "## Exercício\n",
    "\n",
    "Você é um gerente de vendas e tem os dados de vendas de três produtos diferentes (Produto A, Produto B, Produto C) para os últimos 5 dias em um array 2D NumPy. Cada linha do array representa um produto e cada coluna representa um dia. Seu trabalho é calcular as vendas totais para cada produto e para cada dia.\n",
    "\n",
    "Use o seguinte array para sua análise:\n",
    "\n",
    "```python\n",
    "vendas = np.array([[50, 60, 70, 65, 80],\n",
    "                   [85, 90, 78, 92, 88],\n",
    "                   [72, 75, 68, 77, 76]])\n",
    "```\n",
    "\n",
    "**Solução:**\n"
   ]
  },
  {
   "cell_type": "code",
   "execution_count": 14,
   "metadata": {
    "ExecuteTime": {
     "end_time": "2023-07-03T12:12:12.700234800Z",
     "start_time": "2023-07-03T12:12:12.677347900Z"
    },
    "collapsed": false,
    "jupyter": {
     "outputs_hidden": false
    }
   },
   "outputs": [
    {
     "name": "stdout",
     "output_type": "stream",
     "text": [
      "[[50 60 70 65 80]\n",
      " [85 90 78 92 88]\n",
      " [72 75 68 77 76]]\n"
     ]
    }
   ],
   "source": [
    "import numpy as np\n",
    "\n",
    "vendas = np.array([[50, 60, 70, 65, 80],\n",
    "                   [85, 90, 78, 92, 88],\n",
    "                   [72, 75, 68, 77, 76]])\n",
    "\n",
    "print(vendas)"
   ]
  },
  {
   "cell_type": "code",
   "execution_count": 15,
   "metadata": {},
   "outputs": [
    {
     "name": "stdout",
     "output_type": "stream",
     "text": [
      "vendas totais de cada produto: [325 433 368]\n",
      "vendas do produto 1: 325\n",
      "vendas do produto 2: 433\n",
      "vendas do produto 3: 368\n"
     ]
    }
   ],
   "source": [
    "#vendas totais\n",
    "\n",
    "vendas_totais = np.reshape(vendas, (3, -1))\n",
    "vendas_produto = vendas_totais.sum(axis=1)\n",
    "\n",
    "print(f'vendas totais de cada produto: {vendas_produto}')\n",
    "\n",
    "for i in range(3):\n",
    "    print(f'vendas do produto {i+1}: {vendas_produto[i]}')\n",
    "#print(f'vendas do produto A: {vendas_produto[0]}')\n",
    "#print(f'vendas do produto B: {vendas_produto[1]}')\n",
    "#print(f'vendas do produto C: {vendas_produto[2]}')"
   ]
  },
  {
   "cell_type": "code",
   "execution_count": 16,
   "metadata": {},
   "outputs": [
    {
     "name": "stdout",
     "output_type": "stream",
     "text": [
      "Vendas diárias: [207 225 216 234 244]\n",
      "vendas do dia 1: 207\n",
      "vendas do dia 2: 225\n",
      "vendas do dia 3: 216\n",
      "vendas do dia 4: 234\n",
      "vendas do dia 5: 244\n"
     ]
    }
   ],
   "source": [
    "#vendas diarias\n",
    "vendas_diarias = vendas_totais.sum(axis=0)\n",
    "print(f'Vendas diárias: {vendas_diarias}')\n",
    "\n",
    "for i in range(5):\n",
    "    print(f'vendas do dia {i+1}: {vendas_diarias[i]}')\n",
    "\n",
    "#print(f'vendas do dia 1: {vendas_diarias[0]}')\n",
    "#print(f'vendas do dia 2: {vendas_diarias[1]}')\n",
    "#print(f'vendas do dia 3: {vendas_diarias[2]}')\n",
    "#print(f'vendas do dia 4: {vendas_diarias[3]}')\n",
    "#print(f'vendas do dia 5: {vendas_diarias[4]}')"
   ]
  }
 ],
 "metadata": {
  "kernelspec": {
   "display_name": "Python 3 (ipykernel)",
   "language": "python",
   "name": "python3"
  },
  "language_info": {
   "codemirror_mode": {
    "name": "ipython",
    "version": 3
   },
   "file_extension": ".py",
   "mimetype": "text/x-python",
   "name": "python",
   "nbconvert_exporter": "python",
   "pygments_lexer": "ipython3",
   "version": "3.11.1"
  }
 },
 "nbformat": 4,
 "nbformat_minor": 4
}
